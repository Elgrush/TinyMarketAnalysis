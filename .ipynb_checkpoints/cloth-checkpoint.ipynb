{
 "cells": [
  {
   "cell_type": "markdown",
   "metadata": {},
   "source": [
    "Одежда"
   ]
  },
  {
   "cell_type": "code",
   "execution_count": 2,
   "metadata": {},
   "outputs": [],
   "source": [
    "import numpy as np\n",
    "import pandas as pd\n"
   ]
  },
  {
   "cell_type": "code",
   "execution_count": 4,
   "metadata": {},
   "outputs": [],
   "source": [
    "cl = pd.read_excel(\"Neprod_tov.xlsx\", sheet_name=\"Одежда\")\n"
   ]
  },
  {
   "cell_type": "code",
   "execution_count": 15,
   "metadata": {},
   "outputs": [],
   "source": [
    "cl = cl[cl[cl.columns[0]].notna]"
   ]
  },
  {
   "cell_type": "code",
   "execution_count": 18,
   "metadata": {},
   "outputs": [],
   "source": [
    "cl = cl[cl[cl.columns[0]].str.contains(\"область\")]\n",
    "cl = cl[cl[cl.columns[0]].str.contains(\"округ\") == False]"
   ]
  },
  {
   "cell_type": "code",
   "execution_count": 27,
   "metadata": {},
   "outputs": [],
   "source": [
    "cl.columns = [\"Округ\"] + [str(i) for i in range(2017, 2024)]"
   ]
  },
  {
   "cell_type": "code",
   "execution_count": 28,
   "metadata": {},
   "outputs": [],
   "source": [
    "from sklearn.linear_model import LinearRegression"
   ]
  },
  {
   "cell_type": "code",
   "execution_count": 51,
   "metadata": {},
   "outputs": [],
   "source": [
    "X = np.array([i - 2016 for i in range(2017, 2024)])"
   ]
  },
  {
   "cell_type": "code",
   "execution_count": 52,
   "metadata": {},
   "outputs": [],
   "source": [
    "Y = np.array([np.array([cl[cl[cl.columns[0]]==i][j].to_numpy()[0] for j in cl.columns[1::]]) for i in cl[cl.columns[0]]])"
   ]
  },
  {
   "cell_type": "code",
   "execution_count": 54,
   "metadata": {},
   "outputs": [],
   "source": [
    "lin_arr = [LinearRegression().fit(X.reshape(-1, 1), i) for i in Y]"
   ]
  },
  {
   "cell_type": "code",
   "execution_count": null,
   "metadata": {},
   "outputs": [],
   "source": [
    "col = np.array([i.predict(np.array([8]).reshape(-1, 1)) for i in lin_arr])"
   ]
  },
  {
   "cell_type": "code",
   "execution_count": 57,
   "metadata": {},
   "outputs": [],
   "source": [
    "cl[\"2024\"] = col"
   ]
  },
  {
   "cell_type": "code",
   "execution_count": 58,
   "metadata": {},
   "outputs": [],
   "source": [
    "cl[\"2025\"] = np.array([i.predict(np.array([9]).reshape(-1, 1)) for i in lin_arr])"
   ]
  },
  {
   "cell_type": "code",
   "execution_count": 62,
   "metadata": {},
   "outputs": [
    {
     "name": "stdout",
     "output_type": "stream",
     "text": [
      "241.93999999999997 242.74999999999994 256.3999999999999 244.17999999999998 327.0188851472928 358.9870353925903 385.13196552822205 398.43953408360625 424.6062788163612\n",
      "424.6062788163612\n"
     ]
    }
   ],
   "source": [
    "sc = [sum(cl[cl.columns[i-2016]]) for i in range(2017, 2026)]\n",
    "print(*sc)\n",
    "print(sc[-1])"
   ]
  },
  {
   "cell_type": "markdown",
   "metadata": {},
   "source": [
    "Галантерия"
   ]
  },
  {
   "cell_type": "code",
   "execution_count": null,
   "metadata": {},
   "outputs": [],
   "source": [
    "gl = pd.read_excel(\"Neprod_tov.xlsx\", sheet_name=\"Галантерийные изделия\")\n",
    "gl = gl[gl[gl.columns[0]].notna()]\n",
    "gl = gl[gl[gl.columns[0]].str.contains(\"область\")]\n",
    "gl = gl[gl[gl.columns[0]].str.contains(\"округ\") == False]\n",
    "gl.columns = [\"Округ\"] + [str(i) for i in range(2017, 2024)]\n",
    "Y = np.array([np.array([gl[gl[gl.columns[0]]==i][j].to_numpy()[0] for j in gl.columns[1::]]) for i in gl[gl.columns[0]]])\n",
    "lin_arr = [LinearRegression().fit(X.reshape(-1, 1), i) for i in Y]\n",
    "gl[\"2024\"] = np.array([i.predict(np.array([8]).reshape(-1, 1)) for i in lin_arr])\n",
    "gl[\"2025\"] = np.array([i.predict(np.array([9]).reshape(-1, 1)) for i in lin_arr])\n",
    "sg = [sum(gl[gl.columns[i-2016]]) for i in range(2017, 2026)]\n",
    "print(*sg)\n",
    "print(sg[-1])\n"
   ]
  }
 ],
 "metadata": {
  "kernelspec": {
   "display_name": "Python 3",
   "language": "python",
   "name": "python3"
  },
  "language_info": {
   "codemirror_mode": {
    "name": "ipython",
    "version": 3
   },
   "file_extension": ".py",
   "mimetype": "text/x-python",
   "name": "python",
   "nbconvert_exporter": "python",
   "pygments_lexer": "ipython3",
   "version": "3.10.12"
  }
 },
 "nbformat": 4,
 "nbformat_minor": 2
}
